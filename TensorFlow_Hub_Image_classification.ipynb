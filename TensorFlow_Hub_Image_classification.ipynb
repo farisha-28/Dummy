{
  "cells": [
    {
      "cell_type": "markdown",
      "source": [
        "# TensorFlow Hub - Image classification\n",
        "\n",
        "- Based on: https://www.tensorflow.org/hub/tutorials/tf2_image_retraining?hl=pt-br"
      ],
      "metadata": {
        "id": "nMX53YhqSXfH"
      }
    },
    {
      "cell_type": "markdown",
      "source": [
        "# Importing the libraries"
      ],
      "metadata": {
        "id": "fUpIFXpEawk2"
      }
    },
    {
      "cell_type": "code",
      "source": [
        "import matplotlib.pyplot as plt\n",
        "import numpy as np\n",
        "import tensorflow as tf\n",
        "import tensorflow_hub as hub\n",
        "print('TensorFlow version: ', tf.__version__)\n",
        "print('TensorFlow Hub version: ', hub.__version__)"
      ],
      "metadata": {
        "colab": {
          "base_uri": "https://localhost:8080/"
        },
        "id": "TQqClP-34ijq",
        "outputId": "d14ee690-1976-4a26-f793-425f01ba765f"
      },
      "execution_count": null,
      "outputs": [
        {
          "output_type": "stream",
          "name": "stdout",
          "text": [
            "TensorFlow version:  2.8.2\n",
            "TensorFlow Hub version:  0.12.0\n"
          ]
        }
      ]
    },
    {
      "cell_type": "markdown",
      "source": [
        "# Setting the model"
      ],
      "metadata": {
        "id": "M06lvscTzlHi"
      }
    },
    {
      "cell_type": "code",
      "source": [
        "# Other models: https://tfhub.dev/s?module-type=image-feature-vector&tf-version=tf2\n",
        "model_name = 'efficientnetv2-xl-21k' # @param ['efficientnetv2-s', 'efficientnetv2-m', 'efficientnetv2-l', 'efficientnetv2-s-21k', 'efficientnetv2-m-21k', 'efficientnetv2-l-21k', 'efficientnetv2-xl-21k', 'efficientnetv2-b0-21k', 'efficientnetv2-b1-21k', 'efficientnetv2-b2-21k', 'efficientnetv2-b3-21k', 'efficientnetv2-s-21k-ft1k', 'efficientnetv2-m-21k-ft1k', 'efficientnetv2-l-21k-ft1k', 'efficientnetv2-xl-21k-ft1k', 'efficientnetv2-b0-21k-ft1k', 'efficientnetv2-b1-21k-ft1k', 'efficientnetv2-b2-21k-ft1k', 'efficientnetv2-b3-21k-ft1k', 'efficientnetv2-b0', 'efficientnetv2-b1', 'efficientnetv2-b2', 'efficientnetv2-b3', 'efficientnet_b0', 'efficientnet_b1', 'efficientnet_b2', 'efficientnet_b3', 'efficientnet_b4', 'efficientnet_b5', 'efficientnet_b6', 'efficientnet_b7', 'bit_s-r50x1', 'inception_v3', 'inception_resnet_v2', 'resnet_v1_50', 'resnet_v1_101', 'resnet_v1_152', 'resnet_v2_50', 'resnet_v2_101', 'resnet_v2_152', 'nasnet_large', 'nasnet_mobile', 'pnasnet_large', 'mobilenet_v2_100_224', 'mobilenet_v2_130_224', 'mobilenet_v2_140_224', 'mobilenet_v3_small_100_224', 'mobilenet_v3_small_075_224', 'mobilenet_v3_large_100_224', 'mobilenet_v3_large_075_224']"
      ],
      "metadata": {
        "id": "f-6czqZe4_tE"
      },
      "execution_count": null,
      "outputs": []
    },
    {
      "cell_type": "code",
      "source": [
        "models_path = {\n",
        "  \"efficientnetv2-s\": \"https://tfhub.dev/google/imagenet/efficientnet_v2_imagenet1k_s/feature_vector/2\",\n",
        "  \"efficientnetv2-m\": \"https://tfhub.dev/google/imagenet/efficientnet_v2_imagenet1k_m/feature_vector/2\",\n",
        "  \"efficientnetv2-l\": \"https://tfhub.dev/google/imagenet/efficientnet_v2_imagenet1k_l/feature_vector/2\",\n",
        "  \"efficientnetv2-s-21k\": \"https://tfhub.dev/google/imagenet/efficientnet_v2_imagenet21k_s/feature_vector/2\",\n",
        "  \"efficientnetv2-m-21k\": \"https://tfhub.dev/google/imagenet/efficientnet_v2_imagenet21k_m/feature_vector/2\",\n",
        "  \"efficientnetv2-l-21k\": \"https://tfhub.dev/google/imagenet/efficientnet_v2_imagenet21k_l/feature_vector/2\",\n",
        "  \"efficientnetv2-xl-21k\": \"https://tfhub.dev/google/imagenet/efficientnet_v2_imagenet21k_xl/feature_vector/2\",\n",
        "  \"efficientnetv2-b0-21k\": \"https://tfhub.dev/google/imagenet/efficientnet_v2_imagenet21k_b0/feature_vector/2\",\n",
        "  \"efficientnetv2-b1-21k\": \"https://tfhub.dev/google/imagenet/efficientnet_v2_imagenet21k_b1/feature_vector/2\",\n",
        "  \"efficientnetv2-b2-21k\": \"https://tfhub.dev/google/imagenet/efficientnet_v2_imagenet21k_b2/feature_vector/2\",\n",
        "  \"efficientnetv2-b3-21k\": \"https://tfhub.dev/google/imagenet/efficientnet_v2_imagenet21k_b3/feature_vector/2\",\n",
        "  \"efficientnetv2-s-21k-ft1k\": \"https://tfhub.dev/google/imagenet/efficientnet_v2_imagenet21k_ft1k_s/feature_vector/2\",\n",
        "  \"efficientnetv2-m-21k-ft1k\": \"https://tfhub.dev/google/imagenet/efficientnet_v2_imagenet21k_ft1k_m/feature_vector/2\",\n",
        "  \"efficientnetv2-l-21k-ft1k\": \"https://tfhub.dev/google/imagenet/efficientnet_v2_imagenet21k_ft1k_l/feature_vector/2\",\n",
        "  \"efficientnetv2-xl-21k-ft1k\": \"https://tfhub.dev/google/imagenet/efficientnet_v2_imagenet21k_ft1k_xl/feature_vector/2\",\n",
        "  \"efficientnetv2-b0-21k-ft1k\": \"https://tfhub.dev/google/imagenet/efficientnet_v2_imagenet21k_ft1k_b0/feature_vector/2\",\n",
        "  \"efficientnetv2-b1-21k-ft1k\": \"https://tfhub.dev/google/imagenet/efficientnet_v2_imagenet21k_ft1k_b1/feature_vector/2\",\n",
        "  \"efficientnetv2-b2-21k-ft1k\": \"https://tfhub.dev/google/imagenet/efficientnet_v2_imagenet21k_ft1k_b2/feature_vector/2\",\n",
        "  \"efficientnetv2-b3-21k-ft1k\": \"https://tfhub.dev/google/imagenet/efficientnet_v2_imagenet21k_ft1k_b3/feature_vector/2\",\n",
        "  \"efficientnetv2-b0\": \"https://tfhub.dev/google/imagenet/efficientnet_v2_imagenet1k_b0/feature_vector/2\",\n",
        "  \"efficientnetv2-b1\": \"https://tfhub.dev/google/imagenet/efficientnet_v2_imagenet1k_b1/feature_vector/2\",\n",
        "  \"efficientnetv2-b2\": \"https://tfhub.dev/google/imagenet/efficientnet_v2_imagenet1k_b2/feature_vector/2\",\n",
        "  \"efficientnetv2-b3\": \"https://tfhub.dev/google/imagenet/efficientnet_v2_imagenet1k_b3/feature_vector/2\",\n",
        "  \"efficientnet_b0\": \"https://tfhub.dev/tensorflow/efficientnet/b0/feature-vector/1\",\n",
        "  \"efficientnet_b1\": \"https://tfhub.dev/tensorflow/efficientnet/b1/feature-vector/1\",\n",
        "  \"efficientnet_b2\": \"https://tfhub.dev/tensorflow/efficientnet/b2/feature-vector/1\",\n",
        "  \"efficientnet_b3\": \"https://tfhub.dev/tensorflow/efficientnet/b3/feature-vector/1\",\n",
        "  \"efficientnet_b4\": \"https://tfhub.dev/tensorflow/efficientnet/b4/feature-vector/1\",\n",
        "  \"efficientnet_b5\": \"https://tfhub.dev/tensorflow/efficientnet/b5/feature-vector/1\",\n",
        "  \"efficientnet_b6\": \"https://tfhub.dev/tensorflow/efficientnet/b6/feature-vector/1\",\n",
        "  \"efficientnet_b7\": \"https://tfhub.dev/tensorflow/efficientnet/b7/feature-vector/1\",\n",
        "  \"bit_s-r50x1\": \"https://tfhub.dev/google/bit/s-r50x1/1\",\n",
        "  \"inception_v3\": \"https://tfhub.dev/google/imagenet/inception_v3/feature-vector/4\",\n",
        "  \"inception_resnet_v2\": \"https://tfhub.dev/google/imagenet/inception_resnet_v2/feature-vector/4\",\n",
        "  \"resnet_v1_50\": \"https://tfhub.dev/google/imagenet/resnet_v1_50/feature-vector/4\",\n",
        "  \"resnet_v1_101\": \"https://tfhub.dev/google/imagenet/resnet_v1_101/feature-vector/4\",\n",
        "  \"resnet_v1_152\": \"https://tfhub.dev/google/imagenet/resnet_v1_152/feature-vector/4\",\n",
        "  \"resnet_v2_50\": \"https://tfhub.dev/google/imagenet/resnet_v2_50/feature-vector/4\",\n",
        "  \"resnet_v2_101\": \"https://tfhub.dev/google/imagenet/resnet_v2_101/feature-vector/4\",\n",
        "  \"resnet_v2_152\": \"https://tfhub.dev/google/imagenet/resnet_v2_152/feature-vector/4\",\n",
        "  \"nasnet_large\": \"https://tfhub.dev/google/imagenet/nasnet_large/feature_vector/4\",\n",
        "  \"nasnet_mobile\": \"https://tfhub.dev/google/imagenet/nasnet_mobile/feature_vector/4\",\n",
        "  \"pnasnet_large\": \"https://tfhub.dev/google/imagenet/pnasnet_large/feature_vector/4\",\n",
        "  \"mobilenet_v2_100_224\": \"https://tfhub.dev/google/imagenet/mobilenet_v2_100_224/feature_vector/4\",\n",
        "  \"mobilenet_v2_130_224\": \"https://tfhub.dev/google/imagenet/mobilenet_v2_130_224/feature_vector/4\",\n",
        "  \"mobilenet_v2_140_224\": \"https://tfhub.dev/google/imagenet/mobilenet_v2_140_224/feature_vector/4\",\n",
        "  \"mobilenet_v3_small_100_224\": \"https://tfhub.dev/google/imagenet/mobilenet_v3_small_100_224/feature_vector/5\",\n",
        "  \"mobilenet_v3_small_075_224\": \"https://tfhub.dev/google/imagenet/mobilenet_v3_small_075_224/feature_vector/5\",\n",
        "  \"mobilenet_v3_large_100_224\": \"https://tfhub.dev/google/imagenet/mobilenet_v3_large_100_224/feature_vector/5\",\n",
        "  \"mobilenet_v3_large_075_224\": \"https://tfhub.dev/google/imagenet/mobilenet_v3_large_075_224/feature_vector/5\",\n",
        "}"
      ],
      "metadata": {
        "id": "-CsCVkJ47YOg"
      },
      "execution_count": null,
      "outputs": []
    },
    {
      "cell_type": "code",
      "source": [
        "models_pixels = {\n",
        "  \"efficientnetv2-s\": 384,\n",
        "  \"efficientnetv2-m\": 480,\n",
        "  \"efficientnetv2-l\": 480,\n",
        "  \"efficientnetv2-b0\": 224,\n",
        "  \"efficientnetv2-b1\": 240,\n",
        "  \"efficientnetv2-b2\": 260,\n",
        "  \"efficientnetv2-b3\": 300,\n",
        "  \"efficientnetv2-s-21k\": 384,\n",
        "  \"efficientnetv2-m-21k\": 480,\n",
        "  \"efficientnetv2-l-21k\": 480,\n",
        "  \"efficientnetv2-xl-21k\": 512,\n",
        "  \"efficientnetv2-b0-21k\": 224,\n",
        "  \"efficientnetv2-b1-21k\": 240,\n",
        "  \"efficientnetv2-b2-21k\": 260,\n",
        "  \"efficientnetv2-b3-21k\": 300,\n",
        "  \"efficientnetv2-s-21k-ft1k\": 384,\n",
        "  \"efficientnetv2-m-21k-ft1k\": 480,\n",
        "  \"efficientnetv2-l-21k-ft1k\": 480,\n",
        "  \"efficientnetv2-xl-21k-ft1k\": 512,\n",
        "  \"efficientnetv2-b0-21k-ft1k\": 224,\n",
        "  \"efficientnetv2-b1-21k-ft1k\": 240,\n",
        "  \"efficientnetv2-b2-21k-ft1k\": 260,\n",
        "  \"efficientnetv2-b3-21k-ft1k\": 300,\n",
        "  \"efficientnet_b0\": 224,\n",
        "  \"efficientnet_b1\": 240,\n",
        "  \"efficientnet_b2\": 260,\n",
        "  \"efficientnet_b3\": 300,\n",
        "  \"efficientnet_b4\": 380,\n",
        "  \"efficientnet_b5\": 456,\n",
        "  \"efficientnet_b6\": 528,\n",
        "  \"efficientnet_b7\": 600,\n",
        "  \"inception_v3\": 299,\n",
        "  \"inception_resnet_v2\": 299,\n",
        "  \"nasnet_large\": 331,\n",
        "  \"pnasnet_large\": 331,\n",
        "}"
      ],
      "metadata": {
        "id": "HEYA_n_r7rVf"
      },
      "execution_count": null,
      "outputs": []
    },
    {
      "cell_type": "code",
      "source": [
        "model_path = models_path.get(model_name)\n",
        "model_path"
      ],
      "metadata": {
        "colab": {
          "base_uri": "https://localhost:8080/",
          "height": 57
        },
        "id": "k-OLWUCw8AGj",
        "outputId": "af10e7f8-b005-4b0e-b0c8-a015966d9140"
      },
      "execution_count": null,
      "outputs": [
        {
          "output_type": "execute_result",
          "data": {
            "text/plain": [
              "'https://tfhub.dev/google/imagenet/efficientnet_v2_imagenet21k_xl/feature_vector/2'"
            ],
            "application/vnd.google.colaboratory.intrinsic+json": {
              "type": "string"
            }
          },
          "metadata": {},
          "execution_count": 14
        }
      ]
    },
    {
      "cell_type": "code",
      "source": [
        "pixels = models_pixels.get(model_name)\n",
        "pixels"
      ],
      "metadata": {
        "colab": {
          "base_uri": "https://localhost:8080/"
        },
        "id": "KFrlsOrL8Ygb",
        "outputId": "35f982ba-4fe8-470c-c8ce-9fc551252bc7"
      },
      "execution_count": null,
      "outputs": [
        {
          "output_type": "execute_result",
          "data": {
            "text/plain": [
              "512"
            ]
          },
          "metadata": {},
          "execution_count": 15
        }
      ]
    },
    {
      "cell_type": "code",
      "source": [
        "image_size = (pixels, pixels)\n",
        "image_size"
      ],
      "metadata": {
        "colab": {
          "base_uri": "https://localhost:8080/"
        },
        "id": "kSl5zK1b8mex",
        "outputId": "a0ff118b-b996-44df-bade-29375f7d0e1f"
      },
      "execution_count": null,
      "outputs": [
        {
          "output_type": "execute_result",
          "data": {
            "text/plain": [
              "(512, 512)"
            ]
          },
          "metadata": {},
          "execution_count": 16
        }
      ]
    },
    {
      "cell_type": "code",
      "source": [
        "print('Model: ', model_name)\n",
        "print('Path:', model_path)\n",
        "print('Imagem size:', image_size)"
      ],
      "metadata": {
        "colab": {
          "base_uri": "https://localhost:8080/"
        },
        "id": "DFGEIUSW8u4q",
        "outputId": "8876c55b-d085-4e61-c411-371d2c217f79"
      },
      "execution_count": null,
      "outputs": [
        {
          "output_type": "stream",
          "name": "stdout",
          "text": [
            "Model:  efficientnetv2-xl-21k\n",
            "Path: https://tfhub.dev/google/imagenet/efficientnet_v2_imagenet21k_xl/feature_vector/2\n",
            "Imagem size: (512, 512)\n"
          ]
        }
      ]
    },
    {
      "cell_type": "markdown",
      "source": [
        "# Dataset\n",
        "\n",
        "- Kaggle: https://www.kaggle.com/datasets/alxmamaev/flowers-recognition\n",
        "- TensorFlow: https://www.tensorflow.org/datasets/catalog/tf_flowers"
      ],
      "metadata": {
        "id": "5W9OhzS40gOV"
      }
    },
    {
      "cell_type": "code",
      "source": [
        "data_directory = tf.keras.utils.get_file('flower_photos',\n",
        "                                         'https://storage.googleapis.com/download.tensorflow.org/example_images/flower_photos.tgz',\n",
        "                                         untar = True)"
      ],
      "metadata": {
        "colab": {
          "base_uri": "https://localhost:8080/"
        },
        "id": "R8Nirmt9hxda",
        "outputId": "ffbbdd75-ad33-497e-a237-9f664e9953d6"
      },
      "execution_count": null,
      "outputs": [
        {
          "output_type": "stream",
          "name": "stdout",
          "text": [
            "Downloading data from https://storage.googleapis.com/download.tensorflow.org/example_images/flower_photos.tgz\n",
            "228818944/228813984 [==============================] - 1s 0us/step\n",
            "228827136/228813984 [==============================] - 1s 0us/step\n"
          ]
        }
      ]
    },
    {
      "cell_type": "code",
      "source": [
        "data_directory"
      ],
      "metadata": {
        "id": "NqHd4VxxjTPH",
        "outputId": "fb0055ed-d517-40ea-d8e9-67a230a3679c",
        "colab": {
          "base_uri": "https://localhost:8080/",
          "height": 57
        }
      },
      "execution_count": null,
      "outputs": [
        {
          "output_type": "execute_result",
          "data": {
            "text/plain": [
              "'/root/.keras/datasets/flower_photos'"
            ],
            "application/vnd.google.colaboratory.intrinsic+json": {
              "type": "string"
            }
          },
          "metadata": {},
          "execution_count": 19
        }
      ]
    },
    {
      "cell_type": "markdown",
      "source": [
        "## Training dataset"
      ],
      "metadata": {
        "id": "Cr5oAcNZ7Ys-"
      }
    },
    {
      "cell_type": "code",
      "source": [
        "train_dataset = tf.keras.preprocessing.image_dataset_from_directory(data_directory,\n",
        "                                                                    validation_split = .20,\n",
        "                                                                    subset = 'training',\n",
        "                                                                    label_mode = 'categorical',\n",
        "                                                                    seed = 123,\n",
        "                                                                    image_size = image_size,\n",
        "                                                                    batch_size = 1)"
      ],
      "metadata": {
        "colab": {
          "base_uri": "https://localhost:8080/"
        },
        "id": "mDn6cn2EjnIr",
        "outputId": "1270eb23-b9d7-4155-ac3e-d2e363b3f2c1"
      },
      "execution_count": null,
      "outputs": [
        {
          "output_type": "stream",
          "name": "stdout",
          "text": [
            "Found 3670 files belonging to 5 classes.\n",
            "Using 2936 files for training.\n"
          ]
        }
      ]
    },
    {
      "cell_type": "code",
      "source": [
        "2936 / 3670"
      ],
      "metadata": {
        "colab": {
          "base_uri": "https://localhost:8080/"
        },
        "id": "aaEN6dAFkhnx",
        "outputId": "1421499c-7d15-4c18-e5a2-e4b2a532b989"
      },
      "execution_count": null,
      "outputs": [
        {
          "output_type": "execute_result",
          "data": {
            "text/plain": [
              "0.8"
            ]
          },
          "metadata": {},
          "execution_count": 21
        }
      ]
    },
    {
      "cell_type": "code",
      "source": [
        "train_dataset.class_names"
      ],
      "metadata": {
        "colab": {
          "base_uri": "https://localhost:8080/"
        },
        "id": "yTjSnPSFkq7V",
        "outputId": "8b02ff88-8a38-40f8-cc13-09e6db213315"
      },
      "execution_count": null,
      "outputs": [
        {
          "output_type": "execute_result",
          "data": {
            "text/plain": [
              "['daisy', 'dandelion', 'roses', 'sunflowers', 'tulips']"
            ]
          },
          "metadata": {},
          "execution_count": 22
        }
      ]
    },
    {
      "cell_type": "code",
      "source": [
        "classes = train_dataset.class_names\n",
        "classes"
      ],
      "metadata": {
        "colab": {
          "base_uri": "https://localhost:8080/"
        },
        "id": "3DmEWMrGkx8-",
        "outputId": "7bc9f000-39a7-4ffb-ef57-32ea941f0ae0"
      },
      "execution_count": null,
      "outputs": [
        {
          "output_type": "execute_result",
          "data": {
            "text/plain": [
              "['daisy', 'dandelion', 'roses', 'sunflowers', 'tulips']"
            ]
          },
          "metadata": {},
          "execution_count": 23
        }
      ]
    },
    {
      "cell_type": "code",
      "source": [
        "training_size = train_dataset.cardinality().numpy()\n",
        "training_size"
      ],
      "metadata": {
        "colab": {
          "base_uri": "https://localhost:8080/"
        },
        "id": "x4ezG8kgk5ps",
        "outputId": "f2cc411d-3c9e-40c4-84b4-4c8fd3642c1f"
      },
      "execution_count": null,
      "outputs": [
        {
          "output_type": "execute_result",
          "data": {
            "text/plain": [
              "2936"
            ]
          },
          "metadata": {},
          "execution_count": 25
        }
      ]
    },
    {
      "cell_type": "code",
      "source": [
        "BATCH_SIZE = 16"
      ],
      "metadata": {
        "id": "jYf8HPSMlHqC"
      },
      "execution_count": null,
      "outputs": []
    },
    {
      "cell_type": "code",
      "source": [
        "train_dataset = train_dataset.unbatch().batch(BATCH_SIZE)"
      ],
      "metadata": {
        "id": "axLCpYTIlTPq"
      },
      "execution_count": null,
      "outputs": []
    },
    {
      "cell_type": "code",
      "source": [
        "train_dataset"
      ],
      "metadata": {
        "colab": {
          "base_uri": "https://localhost:8080/"
        },
        "id": "54Ma8nsMli_9",
        "outputId": "f916ecfa-1a3c-4ed8-fefd-284a97757aa7"
      },
      "execution_count": null,
      "outputs": [
        {
          "output_type": "execute_result",
          "data": {
            "text/plain": [
              "<BatchDataset element_spec=(TensorSpec(shape=(None, 512, 512, 3), dtype=tf.float32, name=None), TensorSpec(shape=(None, 5), dtype=tf.float32, name=None))>"
            ]
          },
          "metadata": {},
          "execution_count": 29
        }
      ]
    },
    {
      "cell_type": "code",
      "source": [
        "2936 / 16"
      ],
      "metadata": {
        "colab": {
          "base_uri": "https://localhost:8080/"
        },
        "id": "AQOyQ9QTlxDE",
        "outputId": "2c5f2c3f-f041-4053-fd92-203ef7741287"
      },
      "execution_count": null,
      "outputs": [
        {
          "output_type": "execute_result",
          "data": {
            "text/plain": [
              "183.5"
            ]
          },
          "metadata": {},
          "execution_count": 30
        }
      ]
    },
    {
      "cell_type": "code",
      "source": [
        "16 * 183"
      ],
      "metadata": {
        "colab": {
          "base_uri": "https://localhost:8080/"
        },
        "id": "bioub0ARmEJo",
        "outputId": "4360ef87-9d85-4dce-8ef8-55cc6367b2de"
      },
      "execution_count": null,
      "outputs": [
        {
          "output_type": "execute_result",
          "data": {
            "text/plain": [
              "2928"
            ]
          },
          "metadata": {},
          "execution_count": 31
        }
      ]
    },
    {
      "cell_type": "code",
      "source": [
        "# https://www.tensorflow.org/api_docs/python/tf/repeat\n",
        "# https://stackoverflow.com/questions/53514495/what-does-batch-repeat-and-shuffle-do-with-tensorflow-dataset\n",
        "train_dataset = train_dataset.repeat()"
      ],
      "metadata": {
        "id": "EJKooTO7mS1j"
      },
      "execution_count": null,
      "outputs": []
    },
    {
      "cell_type": "code",
      "source": [
        "# Image augmentation: https://www.tensorflow.org/tutorials/images/data_augmentation\n",
        "normalization_layer = tf.keras.layers.Rescaling(1. / 255)\n",
        "pre_processing = tf.keras.Sequential([normalization_layer])\n",
        "pre_processing.add(tf.keras.layers.RandomRotation(40))\n",
        "pre_processing.add(tf.keras.layers.RandomTranslation(0, 0.2))\n",
        "pre_processing.add(tf.keras.layers.RandomTranslation(0.2, 0))\n",
        "pre_processing.add(tf.keras.layers.RandomZoom(0.2, 0.2))\n",
        "pre_processing.add(tf.keras.layers.RandomFlip(mode = 'horizontal'))"
      ],
      "metadata": {
        "id": "LZsvCMtOnpGv"
      },
      "execution_count": null,
      "outputs": []
    },
    {
      "cell_type": "code",
      "source": [
        "train_dataset = train_dataset.map(lambda images, labels: (pre_processing(images), labels))"
      ],
      "metadata": {
        "id": "MmNZ9sEDpd1c"
      },
      "execution_count": null,
      "outputs": []
    },
    {
      "cell_type": "code",
      "source": [
        "train_dataset"
      ],
      "metadata": {
        "colab": {
          "base_uri": "https://localhost:8080/"
        },
        "id": "VJgcU8wspzQx",
        "outputId": "2fc78329-701c-45b0-ae4c-7b41a444bfcf"
      },
      "execution_count": null,
      "outputs": [
        {
          "output_type": "execute_result",
          "data": {
            "text/plain": [
              "<MapDataset element_spec=(TensorSpec(shape=(None, 512, 512, 3), dtype=tf.float32, name=None), TensorSpec(shape=(None, 5), dtype=tf.float32, name=None))>"
            ]
          },
          "metadata": {},
          "execution_count": 35
        }
      ]
    },
    {
      "cell_type": "markdown",
      "source": [
        "## Testing dataset"
      ],
      "metadata": {
        "id": "CcZwye-H7byh"
      }
    },
    {
      "cell_type": "code",
      "source": [
        "test_dataset = tf.keras.preprocessing.image_dataset_from_directory(data_directory,\n",
        "                                                                 validation_split = .20,\n",
        "                                                                 subset = 'validation',\n",
        "                                                                 label_mode = 'categorical',\n",
        "                                                                 seed = 123,\n",
        "                                                                 image_size = image_size,\n",
        "                                                                 batch_size = 1)"
      ],
      "metadata": {
        "colab": {
          "base_uri": "https://localhost:8080/"
        },
        "id": "Nhb0hh4mp58E",
        "outputId": "d6fe112b-c0c2-4fc6-f04d-bba7c77d2965"
      },
      "execution_count": null,
      "outputs": [
        {
          "output_type": "stream",
          "name": "stdout",
          "text": [
            "Found 3670 files belonging to 5 classes.\n",
            "Using 734 files for validation.\n"
          ]
        }
      ]
    },
    {
      "cell_type": "code",
      "source": [
        "test_size = test_dataset.cardinality().numpy()\n",
        "test_size"
      ],
      "metadata": {
        "colab": {
          "base_uri": "https://localhost:8080/"
        },
        "id": "PURM1YcKqRzc",
        "outputId": "43f58c09-677a-4a23-9daa-e4d8912cbf34"
      },
      "execution_count": null,
      "outputs": [
        {
          "output_type": "execute_result",
          "data": {
            "text/plain": [
              "734"
            ]
          },
          "metadata": {},
          "execution_count": 39
        }
      ]
    },
    {
      "cell_type": "code",
      "source": [
        "test_dataset = test_dataset.unbatch().batch(BATCH_SIZE)\n",
        "test_dataset = test_dataset.map(lambda images, labels: (pre_processing(images), labels))"
      ],
      "metadata": {
        "id": "rgxobUxAqh9i"
      },
      "execution_count": null,
      "outputs": []
    },
    {
      "cell_type": "markdown",
      "source": [
        "# Building and training the neural network"
      ],
      "metadata": {
        "id": "_awPIQjs_n3x"
      }
    },
    {
      "cell_type": "code",
      "source": [
        "image_size + (3,)"
      ],
      "metadata": {
        "colab": {
          "base_uri": "https://localhost:8080/"
        },
        "id": "mWJkqjdfsZYy",
        "outputId": "b4d849e7-9888-4dce-e379-939e5d74849f"
      },
      "execution_count": null,
      "outputs": [
        {
          "output_type": "execute_result",
          "data": {
            "text/plain": [
              "(512, 512, 3)"
            ]
          },
          "metadata": {},
          "execution_count": 43
        }
      ]
    },
    {
      "cell_type": "code",
      "source": [
        "model_path"
      ],
      "metadata": {
        "colab": {
          "base_uri": "https://localhost:8080/",
          "height": 57
        },
        "id": "d9YN8-bLssfs",
        "outputId": "6c343bb8-68e7-4528-f596-d6db2317541f"
      },
      "execution_count": null,
      "outputs": [
        {
          "output_type": "execute_result",
          "data": {
            "text/plain": [
              "'https://tfhub.dev/google/imagenet/efficientnet_v2_imagenet21k_xl/feature_vector/2'"
            ],
            "application/vnd.google.colaboratory.intrinsic+json": {
              "type": "string"
            }
          },
          "metadata": {},
          "execution_count": 44
        }
      ]
    },
    {
      "cell_type": "code",
      "source": [
        "len(classes)"
      ],
      "metadata": {
        "colab": {
          "base_uri": "https://localhost:8080/"
        },
        "id": "JhzMttP_tktE",
        "outputId": "b4ede62d-cae8-41da-aea9-a7198ccdfdde"
      },
      "execution_count": null,
      "outputs": [
        {
          "output_type": "execute_result",
          "data": {
            "text/plain": [
              "5"
            ]
          },
          "metadata": {},
          "execution_count": 46
        }
      ]
    },
    {
      "cell_type": "code",
      "source": [
        "# Dropout: https://jmlr.org/papers/volume15/srivastava14a/srivastava14a.pdf\n",
        "model = tf.keras.Sequential([\n",
        "                              tf.keras.layers.InputLayer(input_shape = image_size + (3,)),\n",
        "                              hub.KerasLayer(model_path, trainable = False),\n",
        "                              tf.keras.layers.Dropout(rate = 0.2),\n",
        "                              tf.keras.layers.Dense(len(classes))\n",
        "])"
      ],
      "metadata": {
        "id": "s1VJ-fWLt_4k"
      },
      "execution_count": null,
      "outputs": []
    },
    {
      "cell_type": "code",
      "source": [
        "(None, ) + image_size + (3,)"
      ],
      "metadata": {
        "colab": {
          "base_uri": "https://localhost:8080/"
        },
        "id": "gSIVuGwTuvXp",
        "outputId": "9c10b52e-7b9d-43f5-d535-913fda0f5e6a"
      },
      "execution_count": null,
      "outputs": [
        {
          "output_type": "execute_result",
          "data": {
            "text/plain": [
              "(None, 512, 512, 3)"
            ]
          },
          "metadata": {},
          "execution_count": 52
        }
      ]
    },
    {
      "cell_type": "code",
      "source": [
        "model.build((None, ) + image_size + (3,))\n",
        "model.summary()"
      ],
      "metadata": {
        "colab": {
          "base_uri": "https://localhost:8080/"
        },
        "id": "dU-TkLHQuocX",
        "outputId": "e96e7252-d7cf-49e4-e324-bd432b4bcd1b"
      },
      "execution_count": null,
      "outputs": [
        {
          "output_type": "stream",
          "name": "stdout",
          "text": [
            "Model: \"sequential_3\"\n",
            "_________________________________________________________________\n",
            " Layer (type)                Output Shape              Param #   \n",
            "=================================================================\n",
            " keras_layer_2 (KerasLayer)  (None, 1280)              207615832 \n",
            "                                                                 \n",
            " dropout_2 (Dropout)         (None, 1280)              0         \n",
            "                                                                 \n",
            " dense_2 (Dense)             (None, 5)                 6405      \n",
            "                                                                 \n",
            "=================================================================\n",
            "Total params: 207,622,237\n",
            "Trainable params: 6,405\n",
            "Non-trainable params: 207,615,832\n",
            "_________________________________________________________________\n"
          ]
        }
      ]
    },
    {
      "cell_type": "code",
      "source": [
        "model.compile(optimizer = 'adam', loss = tf.keras.losses.CategoricalCrossentropy(from_logits=True), metrics = ['accuracy'])"
      ],
      "metadata": {
        "id": "J_B6joG-vTEo"
      },
      "execution_count": null,
      "outputs": []
    },
    {
      "cell_type": "code",
      "source": [
        "steps_per_epoch = training_size // BATCH_SIZE\n",
        "validation_steps = test_size // BATCH_SIZE\n",
        "print(steps_per_epoch, validation_steps)"
      ],
      "metadata": {
        "colab": {
          "base_uri": "https://localhost:8080/"
        },
        "id": "inManBMpwHXo",
        "outputId": "f39a62b3-4072-41f6-e12d-572b4209d1bb"
      },
      "execution_count": null,
      "outputs": [
        {
          "output_type": "stream",
          "name": "stdout",
          "text": [
            "183 45\n"
          ]
        }
      ]
    },
    {
      "cell_type": "code",
      "source": [
        "hist = model.fit(train_dataset, epochs = 5, steps_per_epoch = steps_per_epoch,\n",
        "                 validation_data = test_dataset, validation_steps = validation_steps).history"
      ],
      "metadata": {
        "colab": {
          "base_uri": "https://localhost:8080/"
        },
        "id": "tt4m-AvuwoFN",
        "outputId": "95ef3ee6-db10-4352-8e4f-b13ac7e49911"
      },
      "execution_count": null,
      "outputs": [
        {
          "output_type": "stream",
          "name": "stdout",
          "text": [
            "Epoch 1/5\n",
            "183/183 [==============================] - 689s 4s/step - loss: 0.4888 - accuracy: 0.8275 - val_loss: 0.1871 - val_accuracy: 0.9389\n",
            "Epoch 2/5\n",
            "183/183 [==============================] - 645s 4s/step - loss: 0.1813 - accuracy: 0.9370 - val_loss: 0.1614 - val_accuracy: 0.9514\n",
            "Epoch 3/5\n",
            "183/183 [==============================] - 635s 3s/step - loss: 0.1616 - accuracy: 0.9425 - val_loss: 0.1525 - val_accuracy: 0.9500\n",
            "Epoch 4/5\n",
            "183/183 [==============================] - 647s 4s/step - loss: 0.1210 - accuracy: 0.9610 - val_loss: 0.1293 - val_accuracy: 0.9514\n",
            "Epoch 5/5\n",
            "183/183 [==============================] - 652s 4s/step - loss: 0.1229 - accuracy: 0.9548 - val_loss: 0.1370 - val_accuracy: 0.9556\n"
          ]
        }
      ]
    },
    {
      "cell_type": "code",
      "source": [
        "hist"
      ],
      "metadata": {
        "colab": {
          "base_uri": "https://localhost:8080/"
        },
        "id": "XSV28lJw99sP",
        "outputId": "3ff35fd9-a5c5-4dfe-88b0-a5455da469f7"
      },
      "execution_count": null,
      "outputs": [
        {
          "output_type": "execute_result",
          "data": {
            "text/plain": [
              "{'accuracy': [0.8275273442268372,\n",
              "  0.9369863271713257,\n",
              "  0.9424657821655273,\n",
              "  0.9609588980674744,\n",
              "  0.9547945261001587],\n",
              " 'loss': [0.4887615144252777,\n",
              "  0.1813078224658966,\n",
              "  0.16160060465335846,\n",
              "  0.12096342444419861,\n",
              "  0.1228826642036438],\n",
              " 'val_accuracy': [0.9388889074325562,\n",
              "  0.9513888955116272,\n",
              "  0.949999988079071,\n",
              "  0.9513888955116272,\n",
              "  0.9555555582046509],\n",
              " 'val_loss': [0.18706436455249786,\n",
              "  0.1613663285970688,\n",
              "  0.15248051285743713,\n",
              "  0.12933731079101562,\n",
              "  0.13699223101139069]}"
            ]
          },
          "metadata": {},
          "execution_count": 59
        }
      ]
    },
    {
      "cell_type": "code",
      "source": [
        "plt.figure()\n",
        "plt.ylabel('Loss (training and validation)')\n",
        "plt.xlabel('Steps')\n",
        "plt.plot(hist['loss'], label = 'training')\n",
        "plt.plot(hist['val_loss'], label = 'testing')\n",
        "plt.legend();"
      ],
      "metadata": {
        "colab": {
          "base_uri": "https://localhost:8080/",
          "height": 300
        },
        "id": "6zIJD9qk-Cp6",
        "outputId": "005b99cc-68fa-458e-c03c-04a04f21c794"
      },
      "execution_count": null,
      "outputs": [
        {
          "output_type": "display_data",
          "data": {
            "text/plain": [
              "<Figure size 432x288 with 1 Axes>"
            ],
            "image/png": "[encoded data removed]"
          },
          "metadata": {
            "needs_background": "light"
          }
        }
      ]
    },
    {
      "cell_type": "code",
      "source": [
        "plt.figure()\n",
        "plt.ylabel('Accuracy (training and validation)')\n",
        "plt.xlabel('Steps')\n",
        "plt.plot(hist['accuracy'], label = 'training')\n",
        "plt.plot(hist['val_accuracy'], label = 'testing')\n",
        "plt.legend();"
      ],
      "metadata": {
        "colab": {
          "base_uri": "https://localhost:8080/",
          "height": 300
        },
        "id": "s8_a_8SH-qdz",
        "outputId": "1c0cbdc2-02bd-4bbd-94b7-ffed2cf4651f"
      },
      "execution_count": null,
      "outputs": [
        {
          "output_type": "display_data",
          "data": {
            "text/plain": [
              "<Figure size 432x288 with 1 Axes>"
            ],
            "image/png": "[encoded data removed]"
          },
          "metadata": {
            "needs_background": "light"
          }
        }
      ]
    },
    {
      "cell_type": "markdown",
      "source": [
        "# Testing with images"
      ],
      "metadata": {
        "id": "ItEa46bhKgJe"
      }
    },
    {
      "cell_type": "code",
      "source": [
        "X, y = next(iter(test_dataset))"
      ],
      "metadata": {
        "id": "XHammgHb_pAr"
      },
      "execution_count": null,
      "outputs": []
    },
    {
      "cell_type": "code",
      "source": [
        "X"
      ],
      "metadata": {
        "colab": {
          "base_uri": "https://localhost:8080/"
        },
        "id": "wZ-vPiIR_5wb",
        "outputId": "5b9a37b2-9e80-4e1e-8648-667d6f3251bb"
      },
      "execution_count": null,
      "outputs": [
        {
          "output_type": "execute_result",
          "data": {
            "text/plain": [
              "<tf.Tensor: shape=(16, 512, 512, 3), dtype=float32, numpy=\n",
              "array([[[[0.02019288, 0.02740513, 0.02348356],\n",
              "         [0.0188285 , 0.02532829, 0.02140673],\n",
              "         [0.01812445, 0.02439432, 0.02047275],\n",
              "         ...,\n",
              "         [0.67094827, 0.5391235 , 0.43359172],\n",
              "         [0.66939336, 0.5339736 , 0.4331683 ],\n",
              "         [0.66439295, 0.5257448 , 0.43246055]],\n",
              "\n",
              "        [[0.01384618, 0.02090367, 0.01687327],\n",
              "         [0.01002992, 0.01633991, 0.01217319],\n",
              "         [0.00847668, 0.01468673, 0.01041693],\n",
              "         ...,\n",
              "         [0.6650184 , 0.5471155 , 0.43011978],\n",
              "         [0.6606749 , 0.54193234, 0.42769545],\n",
              "         [0.6570501 , 0.5374218 , 0.42663643]],\n",
              "\n",
              "        [[0.00961069, 0.0168685 , 0.01196222],\n",
              "         [0.00542691, 0.01222473, 0.00693034],\n",
              "         [0.00544534, 0.01228269, 0.0067994 ],\n",
              "         ...,\n",
              "         [0.6493702 , 0.5473809 , 0.43025604],\n",
              "         [0.635813  , 0.53751785, 0.41879094],\n",
              "         [0.62853485, 0.53156227, 0.41189685]],\n",
              "\n",
              "        ...,\n",
              "\n",
              "        [[0.2053468 , 0.19460014, 0.18025196],\n",
              "         [0.16805989, 0.15810238, 0.17059346],\n",
              "         [0.14645171, 0.1387801 , 0.14404811],\n",
              "         ...,\n",
              "         [0.06100829, 0.07536939, 0.08185032],\n",
              "         [0.06771599, 0.08089706, 0.08513043],\n",
              "         [0.08256677, 0.09419019, 0.0914942 ]],\n",
              "\n",
              "        [[0.15946984, 0.15843032, 0.14381593],\n",
              "         [0.13375501, 0.13317022, 0.14044476],\n",
              "         [0.11079845, 0.10983984, 0.12213086],\n",
              "         ...,\n",
              "         [0.06368932, 0.08211299, 0.06717677],\n",
              "         [0.0660571 , 0.08556802, 0.05995039],\n",
              "         [0.07618883, 0.09544334, 0.06050843]],\n",
              "\n",
              "        [[0.1346273 , 0.14190553, 0.12229714],\n",
              "         [0.12292143, 0.13099454, 0.1249634 ],\n",
              "         [0.10325579, 0.10830586, 0.11723342],\n",
              "         ...,\n",
              "         [0.06792059, 0.08904729, 0.05883915],\n",
              "         [0.0678174 , 0.09218892, 0.04156626],\n",
              "         [0.06936238, 0.0946586 , 0.03484063]]],\n",
              "\n",
              "\n",
              "       [[[0.89451283, 0.66938204, 0.96952933],\n",
              "         [0.8964925 , 0.67087305, 0.9706325 ],\n",
              "         [0.899611  , 0.6723582 , 0.971995  ],\n",
              "         ...,\n",
              "         [0.9906072 , 0.9937544 , 0.9862498 ],\n",
              "         [0.9875421 , 0.99022543, 0.98276424],\n",
              "         [0.9887175 , 0.99218076, 0.9864214 ]],\n",
              "\n",
              "        [[0.9058327 , 0.67928666, 0.97770214],\n",
              "         [0.9048579 , 0.6786617 , 0.97594404],\n",
              "         [0.9050878 , 0.67703694, 0.97359145],\n",
              "         ...,\n",
              "         [0.99225897, 0.99546975, 0.9930319 ],\n",
              "         [0.99105364, 0.99376225, 0.9919568 ],\n",
              "         [0.98964   , 0.9944149 , 0.99267924]],\n",
              "\n",
              "        [[0.90638167, 0.67818624, 0.9743191 ],\n",
              "         [0.9024358 , 0.6757319 , 0.9696505 ],\n",
              "         [0.90148103, 0.6725298 , 0.9648351 ],\n",
              "         ...,\n",
              "         [0.9920878 , 0.99324155, 0.9943306 ],\n",
              "         [0.9928294 , 0.9927519 , 0.99646866],\n",
              "         [0.9906191 , 0.99080235, 0.99687135]],\n",
              "\n",
              "        ...,\n",
              "\n",
              "        [[0.79341763, 0.64215267, 0.9253177 ],\n",
              "         [0.7715305 , 0.61681795, 0.90195733],\n",
              "         [0.75196433, 0.5938628 , 0.88593656],\n",
              "         ...,\n",
              "         [0.4552467 , 0.13141644, 0.3192604 ],\n",
              "         [0.42321894, 0.10082986, 0.2823032 ],\n",
              "         [0.45881313, 0.12789452, 0.31348383]],\n",
              "\n",
              "        [[0.7594016 , 0.6036612 , 0.8916405 ],\n",
              "         [0.7472686 , 0.5898124 , 0.8781205 ],\n",
              "         [0.73773533, 0.57809675, 0.8720643 ],\n",
              "         ...,\n",
              "         [0.45826933, 0.15144908, 0.33340672],\n",
              "         [0.42336336, 0.11200446, 0.28993386],\n",
              "         [0.4470296 , 0.12162957, 0.30299434]],\n",
              "\n",
              "        [[0.7348426 , 0.5757754 , 0.86563003],\n",
              "         [0.732929  , 0.57314825, 0.8630608 ],\n",
              "         [0.73296785, 0.571605  , 0.8670483 ],\n",
              "         ...,\n",
              "         [0.45106408, 0.16161248, 0.33681068],\n",
              "         [0.42142907, 0.12197033, 0.29380554],\n",
              "         [0.4410277 , 0.12135635, 0.2960887 ]]],\n",
              "\n",
              "\n",
              "       [[[0.03770971, 0.03770971, 0.03770971],\n",
              "         [0.03348175, 0.03348175, 0.03348175],\n",
              "         [0.02989192, 0.02989192, 0.02989192],\n",
              "         ...,\n",
              "         [0.8570955 , 0.8570955 , 0.8570955 ],\n",
              "         [0.8353899 , 0.8353899 , 0.8353899 ],\n",
              "         [0.8084451 , 0.8084451 , 0.8084451 ]],\n",
              "\n",
              "        [[0.03623498, 0.03623498, 0.03623498],\n",
              "         [0.03107668, 0.03107668, 0.03107668],\n",
              "         [0.02677935, 0.02677935, 0.02677935],\n",
              "         ...,\n",
              "         [0.8434239 , 0.8434239 , 0.8434239 ],\n",
              "         [0.820514  , 0.820514  , 0.820514  ],\n",
              "         [0.7873838 , 0.7873838 , 0.7873838 ]],\n",
              "\n",
              "        [[0.03156401, 0.03156401, 0.03156401],\n",
              "         [0.02616325, 0.02616325, 0.02616325],\n",
              "         [0.02203941, 0.02203941, 0.02203941],\n",
              "         ...,\n",
              "         [0.8244103 , 0.8244103 , 0.8244103 ],\n",
              "         [0.8041507 , 0.8041507 , 0.8041507 ],\n",
              "         [0.77221656, 0.77221656, 0.77221656]],\n",
              "\n",
              "        ...,\n",
              "\n",
              "        [[0.734449  , 0.734449  , 0.734449  ],\n",
              "         [0.7334382 , 0.7334382 , 0.7334382 ],\n",
              "         [0.73351085, 0.73351085, 0.73351085],\n",
              "         ...,\n",
              "         [0.76303846, 0.76303846, 0.76303846],\n",
              "         [0.736783  , 0.736783  , 0.736783  ],\n",
              "         [0.70065606, 0.70065606, 0.70065606]],\n",
              "\n",
              "        [[0.74128115, 0.74128115, 0.74128115],\n",
              "         [0.7405878 , 0.7405878 , 0.7405878 ],\n",
              "         [0.74137247, 0.74137247, 0.74137247],\n",
              "         ...,\n",
              "         [0.743486  , 0.743486  , 0.743486  ],\n",
              "         [0.7148869 , 0.7148869 , 0.7148869 ],\n",
              "         [0.67796236, 0.67796236, 0.67796236]],\n",
              "\n",
              "        [[0.7475086 , 0.7475086 , 0.7475086 ],\n",
              "         [0.74751294, 0.74751294, 0.74751294],\n",
              "         [0.7494861 , 0.7494861 , 0.7494861 ],\n",
              "         ...,\n",
              "         [0.71676594, 0.71676594, 0.71676594],\n",
              "         [0.68390167, 0.68390167, 0.68390167],\n",
              "         [0.64575803, 0.64575803, 0.64575803]]],\n",
              "\n",
              "\n",
              "       ...,\n",
              "\n",
              "\n",
              "       [[[0.97959113, 0.76382744, 0.6108604 ],\n",
              "         [0.9796956 , 0.7640093 , 0.61106807],\n",
              "         [0.9800986 , 0.7644123 , 0.6114711 ],\n",
              "         ...,\n",
              "         [0.9831649 , 0.75167966, 0.5911451 ],\n",
              "         [0.98194796, 0.7497897 , 0.59106916],\n",
              "         [0.981713  , 0.7479252 , 0.5908921 ]],\n",
              "\n",
              "        [[0.98051006, 0.7648238 , 0.6118826 ],\n",
              "         [0.9810837 , 0.7653974 , 0.6124562 ],\n",
              "         [0.981933  , 0.7662468 , 0.6133056 ],\n",
              "         ...,\n",
              "         [0.98393106, 0.75177056, 0.58971804],\n",
              "         [0.9838721 , 0.749909  , 0.58979434],\n",
              "         [0.9843948 , 0.7478447 , 0.59016323]],\n",
              "\n",
              "        [[0.981433  , 0.7657468 , 0.61280555],\n",
              "         [0.9824172 , 0.7667311 , 0.61378986],\n",
              "         [0.9834312 , 0.7677449 , 0.6148038 ],\n",
              "         ...,\n",
              "         [0.983984  , 0.7505006 , 0.5888294 ],\n",
              "         [0.9851299 , 0.7488061 , 0.5881598 ],\n",
              "         [0.9861865 , 0.7468188 , 0.5881566 ]],\n",
              "\n",
              "        ...,\n",
              "\n",
              "        [[0.98729235, 0.7716061 , 0.65003747],\n",
              "         [0.98716486, 0.77147853, 0.64990985],\n",
              "         [0.9872404 , 0.7715541 , 0.6499855 ],\n",
              "         ...,\n",
              "         [0.9882173 , 0.77645254, 0.6431001 ],\n",
              "         [0.9881681 , 0.77640337, 0.6427644 ],\n",
              "         [0.98805577, 0.7762911 , 0.6415783 ]],\n",
              "\n",
              "        [[0.98846143, 0.77277523, 0.65120655],\n",
              "         [0.98822904, 0.77254343, 0.6509745 ],\n",
              "         [0.98809725, 0.7724162 , 0.650845  ],\n",
              "         ...,\n",
              "         [0.9891017 , 0.7773371 , 0.6439491 ],\n",
              "         [0.98971796, 0.7779532 , 0.64439493],\n",
              "         [0.9899631 , 0.7781984 , 0.6438229 ]],\n",
              "\n",
              "        [[0.9895938 , 0.7739088 , 0.65233946],\n",
              "         [0.98907095, 0.7733994 , 0.65182334],\n",
              "         [0.98848504, 0.7728717 , 0.6512665 ],\n",
              "         ...,\n",
              "         [0.9902571 , 0.7784924 , 0.6449518 ],\n",
              "         [0.99078244, 0.77901775, 0.6456047 ],\n",
              "         [0.99079776, 0.779033  , 0.64532256]]],\n",
              "\n",
              "\n",
              "       [[[0.7022031 , 0.67923135, 0.4751206 ],\n",
              "         [0.6344851 , 0.6163346 , 0.55216575],\n",
              "         [0.48911786, 0.47468272, 0.4804578 ],\n",
              "         ...,\n",
              "         [0.6883224 , 0.5071145 , 0.5425748 ],\n",
              "         [0.70558697, 0.5312372 , 0.50999045],\n",
              "         [0.6883737 , 0.5539171 , 0.42005712]],\n",
              "\n",
              "        [[0.7732353 , 0.75056297, 0.5361807 ],\n",
              "         [0.7567439 , 0.74301136, 0.6479434 ],\n",
              "         [0.587245  , 0.57983315, 0.55148596],\n",
              "         ...,\n",
              "         [0.6696465 , 0.4955745 , 0.51428354],\n",
              "         [0.6962752 , 0.5253058 , 0.49089512],\n",
              "         [0.7122029 , 0.58500475, 0.4217185 ]],\n",
              "\n",
              "        [[0.781168  , 0.76064235, 0.5245207 ],\n",
              "         [0.7785066 , 0.76933   , 0.63642305],\n",
              "         [0.6421211 , 0.64179474, 0.56946766],\n",
              "         ...,\n",
              "         [0.6779157 , 0.52749246, 0.5035395 ],\n",
              "         [0.7065107 , 0.55901235, 0.48517835],\n",
              "         [0.69675785, 0.5895313 , 0.4030161 ]],\n",
              "\n",
              "        ...,\n",
              "\n",
              "        [[0.5707852 , 0.5337734 , 0.7585927 ],\n",
              "         [0.6408967 , 0.60646826, 0.80834097],\n",
              "         [0.70518625, 0.671774  , 0.86018586],\n",
              "         ...,\n",
              "         [0.5494673 , 0.6973416 , 0.70318604],\n",
              "         [0.5468901 , 0.693313  , 0.7023296 ],\n",
              "         [0.5492814 , 0.6871782 , 0.70311266]],\n",
              "\n",
              "        [[0.65676767, 0.6220437 , 0.83638954],\n",
              "         [0.71739453, 0.6875893 , 0.86519825],\n",
              "         [0.74679595, 0.71569437, 0.8951722 ],\n",
              "         ...,\n",
              "         [0.5327527 , 0.66024226, 0.6765338 ],\n",
              "         [0.54013216, 0.6661751 , 0.6850377 ],\n",
              "         [0.54517287, 0.6676022 , 0.6909942 ]],\n",
              "\n",
              "        [[0.78127545, 0.754329  , 0.9242873 ],\n",
              "         [0.83510935, 0.8146218 , 0.94173324],\n",
              "         [0.83509856, 0.813202  , 0.9483161 ],\n",
              "         ...,\n",
              "         [0.5229774 , 0.6402989 , 0.66193646],\n",
              "         [0.53686535, 0.65229064, 0.6753021 ],\n",
              "         [0.5441189 , 0.65810543, 0.68238854]]],\n",
              "\n",
              "\n",
              "       [[[0.9595176 , 0.8553885 , 0.7842061 ],\n",
              "         [0.9461328 , 0.8364083 , 0.7743495 ],\n",
              "         [0.93953913, 0.82915807, 0.755663  ],\n",
              "         ...,\n",
              "         [0.74144685, 0.4217178 , 0.4491878 ],\n",
              "         [0.7590458 , 0.46156535, 0.50680417],\n",
              "         [0.79815686, 0.5922333 , 0.6188659 ]],\n",
              "\n",
              "        [[0.9595724 , 0.8766515 , 0.8036183 ],\n",
              "         [0.9545373 , 0.8684456 , 0.78954303],\n",
              "         [0.9463236 , 0.85974157, 0.7581969 ],\n",
              "         ...,\n",
              "         [0.7315382 , 0.41617796, 0.41975763],\n",
              "         [0.7356867 , 0.4019212 , 0.44006714],\n",
              "         [0.75658125, 0.47521594, 0.5133631 ]],\n",
              "\n",
              "        [[0.9538277 , 0.8948768 , 0.8018824 ],\n",
              "         [0.9604452 , 0.8983946 , 0.8010424 ],\n",
              "         [0.9609383 , 0.8987023 , 0.7862792 ],\n",
              "         ...,\n",
              "         [0.7157706 , 0.4126129 , 0.39730433],\n",
              "         [0.72465724, 0.40085998, 0.4074221 ],\n",
              "         [0.7350026 , 0.4010215 , 0.42068455]],\n",
              "\n",
              "        ...,\n",
              "\n",
              "        [[0.63564783, 0.5455142 , 0.6379227 ],\n",
              "         [0.40756708, 0.35302833, 0.43598744],\n",
              "         [0.17002232, 0.1513527 , 0.19786045],\n",
              "         ...,\n",
              "         [0.2793707 , 0.35611844, 0.22544132],\n",
              "         [0.3143843 , 0.38419807, 0.32280838],\n",
              "         [0.36562705, 0.4264421 , 0.42159015]],\n",
              "\n",
              "        [[0.43476105, 0.37998012, 0.48770103],\n",
              "         [0.17329954, 0.15388422, 0.21817851],\n",
              "         [0.05091691, 0.06038444, 0.06978583],\n",
              "         ...,\n",
              "         [0.25481668, 0.32689628, 0.2184409 ],\n",
              "         [0.24515271, 0.31707764, 0.24216028],\n",
              "         [0.2581076 , 0.3279536 , 0.27396894]],\n",
              "\n",
              "        [[0.2371212 , 0.21084768, 0.2945555 ],\n",
              "         [0.07866764, 0.08358521, 0.11133624],\n",
              "         [0.04693696, 0.07395321, 0.03407929],\n",
              "         ...,\n",
              "         [0.18260011, 0.25753036, 0.14698459],\n",
              "         [0.14600043, 0.22570701, 0.11143754],\n",
              "         [0.14310394, 0.22499914, 0.10860327]]]], dtype=float32)>"
            ]
          },
          "metadata": {},
          "execution_count": 85
        }
      ]
    },
    {
      "cell_type": "code",
      "source": [
        "X.shape"
      ],
      "metadata": {
        "colab": {
          "base_uri": "https://localhost:8080/"
        },
        "id": "QCWxFhwoAM1L",
        "outputId": "b20961d5-17e3-453b-a893-2d7edd0ca5dc"
      },
      "execution_count": null,
      "outputs": [
        {
          "output_type": "execute_result",
          "data": {
            "text/plain": [
              "TensorShape([16, 512, 512, 3])"
            ]
          },
          "metadata": {},
          "execution_count": 86
        }
      ]
    },
    {
      "cell_type": "code",
      "source": [
        "y"
      ],
      "metadata": {
        "colab": {
          "base_uri": "https://localhost:8080/"
        },
        "id": "-QD1oaxkAXrs",
        "outputId": "96346998-8413-4a6e-f662-d3a5b4010a7b"
      },
      "execution_count": null,
      "outputs": [
        {
          "output_type": "execute_result",
          "data": {
            "text/plain": [
              "<tf.Tensor: shape=(16, 5), dtype=float32, numpy=\n",
              "array([[0., 0., 1., 0., 0.],\n",
              "       [0., 0., 1., 0., 0.],\n",
              "       [0., 1., 0., 0., 0.],\n",
              "       [0., 0., 1., 0., 0.],\n",
              "       [0., 0., 0., 1., 0.],\n",
              "       [0., 1., 0., 0., 0.],\n",
              "       [0., 0., 0., 1., 0.],\n",
              "       [0., 0., 0., 0., 1.],\n",
              "       [0., 0., 0., 0., 1.],\n",
              "       [0., 1., 0., 0., 0.],\n",
              "       [1., 0., 0., 0., 0.],\n",
              "       [0., 1., 0., 0., 0.],\n",
              "       [0., 0., 0., 0., 1.],\n",
              "       [0., 1., 0., 0., 0.],\n",
              "       [0., 1., 0., 0., 0.],\n",
              "       [0., 0., 1., 0., 0.]], dtype=float32)>"
            ]
          },
          "metadata": {},
          "execution_count": 87
        }
      ]
    },
    {
      "cell_type": "code",
      "source": [
        "image = X[0, :, :, :]\n",
        "image"
      ],
      "metadata": {
        "colab": {
          "base_uri": "https://localhost:8080/"
        },
        "id": "N2XYyRnPA4NH",
        "outputId": "1a8f7b6c-03d6-4f36-aca1-86ea368e9dc9"
      },
      "execution_count": null,
      "outputs": [
        {
          "output_type": "execute_result",
          "data": {
            "text/plain": [
              "<tf.Tensor: shape=(512, 512, 3), dtype=float32, numpy=\n",
              "array([[[0.02019288, 0.02740513, 0.02348356],\n",
              "        [0.0188285 , 0.02532829, 0.02140673],\n",
              "        [0.01812445, 0.02439432, 0.02047275],\n",
              "        ...,\n",
              "        [0.67094827, 0.5391235 , 0.43359172],\n",
              "        [0.66939336, 0.5339736 , 0.4331683 ],\n",
              "        [0.66439295, 0.5257448 , 0.43246055]],\n",
              "\n",
              "       [[0.01384618, 0.02090367, 0.01687327],\n",
              "        [0.01002992, 0.01633991, 0.01217319],\n",
              "        [0.00847668, 0.01468673, 0.01041693],\n",
              "        ...,\n",
              "        [0.6650184 , 0.5471155 , 0.43011978],\n",
              "        [0.6606749 , 0.54193234, 0.42769545],\n",
              "        [0.6570501 , 0.5374218 , 0.42663643]],\n",
              "\n",
              "       [[0.00961069, 0.0168685 , 0.01196222],\n",
              "        [0.00542691, 0.01222473, 0.00693034],\n",
              "        [0.00544534, 0.01228269, 0.0067994 ],\n",
              "        ...,\n",
              "        [0.6493702 , 0.5473809 , 0.43025604],\n",
              "        [0.635813  , 0.53751785, 0.41879094],\n",
              "        [0.62853485, 0.53156227, 0.41189685]],\n",
              "\n",
              "       ...,\n",
              "\n",
              "       [[0.2053468 , 0.19460014, 0.18025196],\n",
              "        [0.16805989, 0.15810238, 0.17059346],\n",
              "        [0.14645171, 0.1387801 , 0.14404811],\n",
              "        ...,\n",
              "        [0.06100829, 0.07536939, 0.08185032],\n",
              "        [0.06771599, 0.08089706, 0.08513043],\n",
              "        [0.08256677, 0.09419019, 0.0914942 ]],\n",
              "\n",
              "       [[0.15946984, 0.15843032, 0.14381593],\n",
              "        [0.13375501, 0.13317022, 0.14044476],\n",
              "        [0.11079845, 0.10983984, 0.12213086],\n",
              "        ...,\n",
              "        [0.06368932, 0.08211299, 0.06717677],\n",
              "        [0.0660571 , 0.08556802, 0.05995039],\n",
              "        [0.07618883, 0.09544334, 0.06050843]],\n",
              "\n",
              "       [[0.1346273 , 0.14190553, 0.12229714],\n",
              "        [0.12292143, 0.13099454, 0.1249634 ],\n",
              "        [0.10325579, 0.10830586, 0.11723342],\n",
              "        ...,\n",
              "        [0.06792059, 0.08904729, 0.05883915],\n",
              "        [0.0678174 , 0.09218892, 0.04156626],\n",
              "        [0.06936238, 0.0946586 , 0.03484063]]], dtype=float32)>"
            ]
          },
          "metadata": {},
          "execution_count": 88
        }
      ]
    },
    {
      "cell_type": "code",
      "source": [
        "y_true = np.argmax(y[0])\n",
        "y_true"
      ],
      "metadata": {
        "colab": {
          "base_uri": "https://localhost:8080/"
        },
        "id": "hhXutnP8BI-Z",
        "outputId": "e920bd5d-e4e7-4a6b-c860-d6f241b098fd"
      },
      "execution_count": null,
      "outputs": [
        {
          "output_type": "execute_result",
          "data": {
            "text/plain": [
              "2"
            ]
          },
          "metadata": {},
          "execution_count": 89
        }
      ]
    },
    {
      "cell_type": "code",
      "source": [
        "classes[2]"
      ],
      "metadata": {
        "colab": {
          "base_uri": "https://localhost:8080/",
          "height": 57
        },
        "id": "E5QGf4bcBfx8",
        "outputId": "70f2c40a-ff95-4274-a6e6-7dda1bae1cdd"
      },
      "execution_count": null,
      "outputs": [
        {
          "output_type": "execute_result",
          "data": {
            "text/plain": [
              "'roses'"
            ],
            "application/vnd.google.colaboratory.intrinsic+json": {
              "type": "string"
            }
          },
          "metadata": {},
          "execution_count": 91
        }
      ]
    },
    {
      "cell_type": "code",
      "source": [
        "plt.imshow(image)\n",
        "plt.axis('off');"
      ],
      "metadata": {
        "colab": {
          "base_uri": "https://localhost:8080/",
          "height": 268
        },
        "id": "0c0UNHMoBsuW",
        "outputId": "84921fa6-afc4-4130-d0ad-92eb93f24a3e"
      },
      "execution_count": null,
      "outputs": [
        {
          "output_type": "display_data",
          "data": {
            "text/plain": [
              "<Figure size 432x288 with 1 Axes>"
            ],
            "image/png": "[encoded data removed]"
          },
          "metadata": {
            "needs_background": "light"
          }
        }
      ]
    },
    {
      "cell_type": "code",
      "source": [
        "image.shape"
      ],
      "metadata": {
        "colab": {
          "base_uri": "https://localhost:8080/"
        },
        "id": "pnZnxA2lB_KW",
        "outputId": "f0e01895-73ee-411f-9085-29b78e928884"
      },
      "execution_count": null,
      "outputs": [
        {
          "output_type": "execute_result",
          "data": {
            "text/plain": [
              "TensorShape([512, 512, 3])"
            ]
          },
          "metadata": {},
          "execution_count": 93
        }
      ]
    },
    {
      "cell_type": "code",
      "source": [
        "image = np.expand_dims(image, axis = 0)\n",
        "image.shape"
      ],
      "metadata": {
        "colab": {
          "base_uri": "https://localhost:8080/"
        },
        "id": "McbBo-KuCCc8",
        "outputId": "d0f36b3a-b691-4edf-b98e-572e8f5b4b9b"
      },
      "execution_count": null,
      "outputs": [
        {
          "output_type": "execute_result",
          "data": {
            "text/plain": [
              "(1, 512, 512, 3)"
            ]
          },
          "metadata": {},
          "execution_count": 94
        }
      ]
    },
    {
      "cell_type": "code",
      "source": [
        "prediction = model.predict(image)\n",
        "prediction"
      ],
      "metadata": {
        "colab": {
          "base_uri": "https://localhost:8080/"
        },
        "id": "PwVi00IBCRQk",
        "outputId": "b34fd91e-e391-4fc8-e387-1bf812dcc507"
      },
      "execution_count": null,
      "outputs": [
        {
          "output_type": "execute_result",
          "data": {
            "text/plain": [
              "array([[-3.6010792, -3.544305 , -7.1559286,  7.624323 , -4.773508 ]],\n",
              "      dtype=float32)"
            ]
          },
          "metadata": {},
          "execution_count": 79
        }
      ]
    },
    {
      "cell_type": "code",
      "source": [
        "prediction = np.argmax(prediction)\n",
        "prediction"
      ],
      "metadata": {
        "colab": {
          "base_uri": "https://localhost:8080/"
        },
        "id": "xnwSxrWdCqxw",
        "outputId": "4cdcca2c-7af3-41c4-c229-fdcd31c08d72"
      },
      "execution_count": null,
      "outputs": [
        {
          "output_type": "execute_result",
          "data": {
            "text/plain": [
              "3"
            ]
          },
          "metadata": {},
          "execution_count": 80
        }
      ]
    },
    {
      "cell_type": "code",
      "source": [
        "model.save('/content/model')"
      ],
      "metadata": {
        "colab": {
          "base_uri": "https://localhost:8080/"
        },
        "id": "dj2wUd-UC5m-",
        "outputId": "d8ba7c2f-7778-4bc6-9201-363b9b102bd3"
      },
      "execution_count": null,
      "outputs": [
        {
          "output_type": "stream",
          "name": "stderr",
          "text": [
            "WARNING:absl:Found untraced functions such as restored_function_body, restored_function_body, restored_function_body, restored_function_body, restored_function_body while saving (showing 5 of 1594). These functions will not be directly callable after loading.\n"
          ]
        },
        {
          "output_type": "stream",
          "name": "stdout",
          "text": [
            "INFO:tensorflow:Assets written to: /content/model/assets\n"
          ]
        },
        {
          "output_type": "stream",
          "name": "stderr",
          "text": [
            "INFO:tensorflow:Assets written to: /content/model/assets\n"
          ]
        }
      ]
    },
    {
      "cell_type": "code",
      "source": [
        "loaded_model = tf.keras.models.load_model('/content/model')"
      ],
      "metadata": {
        "id": "Xzx8nIDMDYjR"
      },
      "execution_count": null,
      "outputs": []
    },
    {
      "cell_type": "code",
      "source": [
        "loaded_model.summary()"
      ],
      "metadata": {
        "colab": {
          "base_uri": "https://localhost:8080/"
        },
        "id": "nSnYf5KzDfbx",
        "outputId": "fc7e2151-41a6-4a8b-e29f-d72fc20ecd9a"
      },
      "execution_count": null,
      "outputs": [
        {
          "output_type": "stream",
          "name": "stdout",
          "text": [
            "Model: \"sequential_3\"\n",
            "_________________________________________________________________\n",
            " Layer (type)                Output Shape              Param #   \n",
            "=================================================================\n",
            " keras_layer_2 (KerasLayer)  (None, 1280)              207615832 \n",
            "                                                                 \n",
            " dropout_2 (Dropout)         (None, 1280)              0         \n",
            "                                                                 \n",
            " dense_2 (Dense)             (None, 5)                 6405      \n",
            "                                                                 \n",
            "=================================================================\n",
            "Total params: 207,622,237\n",
            "Trainable params: 6,405\n",
            "Non-trainable params: 207,615,832\n",
            "_________________________________________________________________\n"
          ]
        }
      ]
    },
    {
      "cell_type": "code",
      "source": [
        "prediction = classes[np.argmax(loaded_model.predict(image))]\n",
        "prediction"
      ],
      "metadata": {
        "colab": {
          "base_uri": "https://localhost:8080/",
          "height": 57
        },
        "id": "dS6Xb0xpED3T",
        "outputId": "1329fc24-2c0f-47d9-fe2b-ce6a0d5f2dcb"
      },
      "execution_count": null,
      "outputs": [
        {
          "output_type": "execute_result",
          "data": {
            "text/plain": [
              "'roses'"
            ],
            "application/vnd.google.colaboratory.intrinsic+json": {
              "type": "string"
            }
          },
          "metadata": {},
          "execution_count": 97
        }
      ]
    }
  ],
  "metadata": {
    "accelerator": "GPU",
    "colab": {
      "provenance": []
    },
    "gpuClass": "standard",
    "kernelspec": {
      "display_name": "Python 3",
      "name": "python3"
    },
    "language_info": {
      "name": "python"
    }
  },
  "nbformat": 4,
  "nbformat_minor": 0
}